{
 "cells": [
  {
   "cell_type": "code",
   "execution_count": 10,
   "id": "a7c0cbaa",
   "metadata": {},
   "outputs": [],
   "source": [
    "import pandas as pd #Imported in Panda to help me with the data cleaning. This helps me use SQL commands. \n",
    "\n",
    "#Loaded the data from my 3 files into dataframes. \n",
    "df_gdp = pd.read_csv('GDP by country - Sheet1.csv')  \n",
    "df_pop = pd.read_csv('Population by Country - Sheet1.csv') \n",
    "df_cell = pd.read_csv('Cell_by_country - Cell_by_country.csv')"
   ]
  },
  {
   "cell_type": "code",
   "execution_count": 11,
   "id": "450f3ec5",
   "metadata": {},
   "outputs": [
    {
     "name": "stdout",
     "output_type": "stream",
     "text": [
      "                  Country Name Country Code  \\\n",
      "0                        Aruba          ABW   \n",
      "1  Africa Eastern and Southern          AFE   \n",
      "2                  Afghanistan          AFG   \n",
      "3   Africa Western and Central          AFW   \n",
      "4                       Angola          AGO   \n",
      "\n",
      "   2022 Mobile cellular subscriptions            Cell Indicator Name  \n",
      "0                                 NaN  Mobile cellular subscriptions  \n",
      "1                         562145156.0  Mobile cellular subscriptions  \n",
      "2                                 NaN  Mobile cellular subscriptions  \n",
      "3                         426795276.0  Mobile cellular subscriptions  \n",
      "4                          23977537.0  Mobile cellular subscriptions  \n",
      "   # Country (or dependency) Population\\n(2024) Yearly\\nChange Net\\nChange  \\\n",
      "0  1                   India      1,450,935,791         0.89 %  12,866,195   \n",
      "1  2                   China      1,419,321,278        -0.23 %  -3,263,655   \n",
      "2  3           United States        345,426,571         0.57 %   1,949,236   \n",
      "3  4               Indonesia        283,487,931         0.82 %   2,297,864   \n",
      "4  5                Pakistan        251,269,164         1.52 %   3,764,669   \n",
      "\n",
      "  Density\\n(P/Km²) Land Area\\n(Km²) Migrants\\n(net)  Fert.\\nRate  Med.\\nAge  \\\n",
      "0              488        2,973,190        -630,830          2.0         28   \n",
      "1              151        9,388,211        -318,992          1.0         40   \n",
      "2               38        9,147,420       1,286,132          1.6         38   \n",
      "3              156        1,811,570         -38,469          2.1         30   \n",
      "4              326          770,880      -1,401,173          3.5         20   \n",
      "\n",
      "  Urban\\nPop % World\\nShare  \n",
      "0         37 %      17.78 %  \n",
      "1         66 %      17.39 %  \n",
      "2         82 %       4.23 %  \n",
      "3         59 %       3.47 %  \n",
      "4         34 %       3.08 %  \n",
      "   #        Country GDP\\n(nominal, 2022)    GDP\\n(abbrev.) GDP\\ngrowth  \\\n",
      "0  1  United States  $25,462,700,000,000  $25.463 trillion       2.06%   \n",
      "1  2          China  $17,963,200,000,000  $17.963 trillion       2.99%   \n",
      "2  3          Japan   $4,231,140,000,000   $4.231 trillion       1.03%   \n",
      "3  4        Germany   $4,072,190,000,000   $4.072 trillion       1.79%   \n",
      "4  5          India   $3,385,090,000,000   $3.385 trillion       7.00%   \n",
      "\n",
      "  Population\\n(2022) GDP\\nper capita Share of\\nWorld GDP  \n",
      "0        341,534,046         $74,554              25.32%  \n",
      "1      1,425,179,569         $12,604              17.86%  \n",
      "2        124,997,578         $33,850               4.21%  \n",
      "3         84,086,227         $48,429               4.05%  \n",
      "4      1,425,423,212          $2,375               3.37%  \n"
     ]
    }
   ],
   "source": [
    "#As always, I always get some basic info about my dataframes before diving into the cleaning. \n",
    "print(df_cell.head())\n",
    "print(df_pop.head())\n",
    "print(df_gdp.head())"
   ]
  },
  {
   "cell_type": "code",
   "execution_count": 15,
   "id": "e37146c7",
   "metadata": {},
   "outputs": [
    {
     "data": {
      "text/plain": [
       "Index(['Country Name', 'Country Code', '2022 Mobile cellular subscriptions',\n",
       "       'Cell Indicator Name'],\n",
       "      dtype='object')"
      ]
     },
     "execution_count": 15,
     "metadata": {},
     "output_type": "execute_result"
    }
   ],
   "source": [
    "df_cell.columns #I checked the column names of this dataframe before deciding how I will merge it with the other dataframes.\n"
   ]
  },
  {
   "cell_type": "code",
   "execution_count": 16,
   "id": "5e29ed56",
   "metadata": {},
   "outputs": [
    {
     "data": {
      "text/plain": [
       "Index(['#', 'Country (or dependency)', 'Population\\n(2024)', 'Yearly\\nChange',\n",
       "       'Net\\nChange', 'Density\\n(P/Km²)', 'Land Area\\n(Km²)',\n",
       "       'Migrants\\n(net)', 'Fert.\\nRate', 'Med.\\nAge', 'Urban\\nPop %',\n",
       "       'World\\nShare'],\n",
       "      dtype='object')"
      ]
     },
     "execution_count": 16,
     "metadata": {},
     "output_type": "execute_result"
    }
   ],
   "source": [
    "df_pop.columns #I checked the column names of this dataframe before deciding how I will merge it with the other dataframes."
   ]
  },
  {
   "cell_type": "code",
   "execution_count": 17,
   "id": "90e25955",
   "metadata": {},
   "outputs": [
    {
     "data": {
      "text/plain": [
       "Index(['#', 'Country', 'GDP\\n(nominal, 2022)', 'GDP\\n(abbrev.)', 'GDP\\ngrowth',\n",
       "       'Population\\n(2022)', 'GDP\\nper capita', 'Share of\\nWorld GDP'],\n",
       "      dtype='object')"
      ]
     },
     "execution_count": 17,
     "metadata": {},
     "output_type": "execute_result"
    }
   ],
   "source": [
    "df_gdp.columns #I checked the column names of this dataframe before deciding how I will merge it with the other dataframes."
   ]
  },
  {
   "cell_type": "code",
   "execution_count": 20,
   "id": "87e6e076",
   "metadata": {},
   "outputs": [],
   "source": [
    "df_cell.rename(columns={'Country Name': 'Country'}, inplace=True) #I had to rename this column so that each dataframe has one similarly-named column that I can merge them by. "
   ]
  },
  {
   "cell_type": "code",
   "execution_count": 21,
   "id": "fe38364a",
   "metadata": {},
   "outputs": [],
   "source": [
    "df_gdp.rename(columns={'Country (or dependency)': 'Country'}, inplace=True)#I had to rename this column so that each dataframe has one similarly-named column that I can merge them by."
   ]
  },
  {
   "cell_type": "code",
   "execution_count": 26,
   "id": "9dd833f7",
   "metadata": {},
   "outputs": [
    {
     "data": {
      "text/plain": [
       "Index(['Country', 'Country Code', '2022 Mobile cellular subscriptions',\n",
       "       'Cell Indicator Name'],\n",
       "      dtype='object')"
      ]
     },
     "execution_count": 26,
     "metadata": {},
     "output_type": "execute_result"
    }
   ],
   "source": [
    "df_cell.columns #Checked the updated column names. "
   ]
  },
  {
   "cell_type": "code",
   "execution_count": 27,
   "id": "5d50bac9",
   "metadata": {},
   "outputs": [
    {
     "data": {
      "text/plain": [
       "Index(['#', 'Country', 'GDP\\n(nominal, 2022)', 'GDP\\n(abbrev.)', 'GDP\\ngrowth',\n",
       "       'Population\\n(2022)', 'GDP\\nper capita', 'Share of\\nWorld GDP'],\n",
       "      dtype='object')"
      ]
     },
     "execution_count": 27,
     "metadata": {},
     "output_type": "execute_result"
    }
   ],
   "source": [
    "df_gdp.columns #Checked the updated column names."
   ]
  },
  {
   "cell_type": "code",
   "execution_count": 28,
   "id": "8dba2847",
   "metadata": {},
   "outputs": [
    {
     "data": {
      "text/plain": [
       "Index(['#', 'Country (or dependency)', 'Population\\n(2024)', 'Yearly\\nChange',\n",
       "       'Net\\nChange', 'Density\\n(P/Km²)', 'Land Area\\n(Km²)',\n",
       "       'Migrants\\n(net)', 'Fert.\\nRate', 'Med.\\nAge', 'Urban\\nPop %',\n",
       "       'World\\nShare'],\n",
       "      dtype='object')"
      ]
     },
     "execution_count": 28,
     "metadata": {},
     "output_type": "execute_result"
    }
   ],
   "source": [
    "df_pop.columns #Checked the updated column names."
   ]
  },
  {
   "cell_type": "code",
   "execution_count": 29,
   "id": "96dab3a0",
   "metadata": {},
   "outputs": [],
   "source": [
    "df_pop.rename(columns={'Country (or dependency)': 'Country'}, inplace=True) #Had to rename this properly as well. "
   ]
  },
  {
   "cell_type": "code",
   "execution_count": 30,
   "id": "b2070178",
   "metadata": {},
   "outputs": [
    {
     "data": {
      "text/plain": [
       "Index(['#', 'Country', 'Population\\n(2024)', 'Yearly\\nChange', 'Net\\nChange',\n",
       "       'Density\\n(P/Km²)', 'Land Area\\n(Km²)', 'Migrants\\n(net)',\n",
       "       'Fert.\\nRate', 'Med.\\nAge', 'Urban\\nPop %', 'World\\nShare'],\n",
       "      dtype='object')"
      ]
     },
     "execution_count": 30,
     "metadata": {},
     "output_type": "execute_result"
    }
   ],
   "source": [
    "df_pop.columns #Checked the updated column names."
   ]
  },
  {
   "cell_type": "code",
   "execution_count": 35,
   "id": "499c4fa1",
   "metadata": {},
   "outputs": [],
   "source": [
    "df_summary = pd.merge(df_cell, df_pop, on='Country', how='outer') #Merged 2 dataframes first because I kept getting an error when I tried to do 3 at once. "
   ]
  },
  {
   "cell_type": "code",
   "execution_count": 36,
   "id": "335c8243",
   "metadata": {},
   "outputs": [],
   "source": [
    "df_together = pd.merge(df_summary , df_gdp, on='Country', how='outer')\n",
    "#Merged the last dataframe into the newly-created dataframe."
   ]
  },
  {
   "cell_type": "code",
   "execution_count": 37,
   "id": "9eb23a33",
   "metadata": {},
   "outputs": [
    {
     "data": {
      "text/plain": [
       "Index(['Country', 'Country Code', '2022 Mobile cellular subscriptions',\n",
       "       'Cell Indicator Name', '#_x', 'Population\\n(2024)', 'Yearly\\nChange',\n",
       "       'Net\\nChange', 'Density\\n(P/Km²)', 'Land Area\\n(Km²)',\n",
       "       'Migrants\\n(net)', 'Fert.\\nRate', 'Med.\\nAge', 'Urban\\nPop %',\n",
       "       'World\\nShare', '#_y', 'GDP\\n(nominal, 2022)', 'GDP\\n(abbrev.)',\n",
       "       'GDP\\ngrowth', 'Population\\n(2022)', 'GDP\\nper capita',\n",
       "       'Share of\\nWorld GDP'],\n",
       "      dtype='object')"
      ]
     },
     "execution_count": 37,
     "metadata": {},
     "output_type": "execute_result"
    }
   ],
   "source": [
    "df_together.columns\n",
    "#Checked my column names expecting to see way more columns and I was right. "
   ]
  },
  {
   "cell_type": "code",
   "execution_count": null,
   "id": "218d06b8",
   "metadata": {
    "scrolled": true
   },
   "outputs": [],
   "source": [
    "import pandas as pd\n",
    "\n",
    "# Convered to string and handle non-numeric entries\n",
    "df_together['Population\\n(2024)'] = pd.to_numeric(df_together['Population\\n(2024)'].astype(str).str.replace(',', ''), errors='coerce')\n",
    "df_together['Land Area\\n(Km²)'] = pd.to_numeric(df_together['Land Area\\n(Km²)'].astype(str).str.replace(',', ''), errors='coerce')\n",
    "\n",
    "# Calculated the density #This is a new calculated value that I was able to do with my merged data. \n",
    "df_together['Calculated Density (P/Km²)'] = df_together['Population\\n(2024)'] / df_together['Land Area\\n(Km²)']\n",
    "\n",
    "# Displayed the updated DataFrame\n",
    "print(df_together[['Country', 'Population\\n(2024)', 'Land Area\\n(Km²)', 'Calculated Density (P/Km²)']])\n"
   ]
  },
  {
   "cell_type": "code",
   "execution_count": 2,
   "id": "eec97649",
   "metadata": {},
   "outputs": [],
   "source": [
    "#Saved my newly merged data into a few csv file. "
   ]
  },
  {
   "cell_type": "code",
   "execution_count": null,
   "id": "daf7fe20",
   "metadata": {},
   "outputs": [],
   "source": [
    "df_together.to_csv('world_bank_data_merged.csv', index=False) #this may produce an error if you run it now but it worked earlier. "
   ]
  }
 ],
 "metadata": {
  "kernelspec": {
   "display_name": "Python 3 (ipykernel)",
   "language": "python",
   "name": "python3"
  },
  "language_info": {
   "codemirror_mode": {
    "name": "ipython",
    "version": 3
   },
   "file_extension": ".py",
   "mimetype": "text/x-python",
   "name": "python",
   "nbconvert_exporter": "python",
   "pygments_lexer": "ipython3",
   "version": "3.11.7"
  }
 },
 "nbformat": 4,
 "nbformat_minor": 5
}
