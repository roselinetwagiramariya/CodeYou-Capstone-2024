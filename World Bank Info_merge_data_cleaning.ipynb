{
 "cells": [
  {
   "cell_type": "code",
   "execution_count": null,
   "id": "88ea4598",
   "metadata": {},
   "outputs": [],
   "source": [
    "#API_IT.CEL.SETS_DS2_en_csv_v2_2874878.csv"
   ]
  },
  {
   "cell_type": "code",
   "execution_count": null,
   "id": "3d371ae6",
   "metadata": {},
   "outputs": [],
   "source": [
    "#API_NY.GDP.MKTP.CD_DS2_en_csv_v2_2788787.csv"
   ]
  },
  {
   "cell_type": "code",
   "execution_count": null,
   "id": "1d14c7f1",
   "metadata": {},
   "outputs": [],
   "source": [
    "#7ce22797-d805-43d2-b219-756e150888d5_Data.csv"
   ]
  },
  {
   "cell_type": "code",
   "execution_count": null,
   "id": "014c13bf",
   "metadata": {},
   "outputs": [],
   "source": []
  }
 ],
 "metadata": {
  "kernelspec": {
   "display_name": "Python 3 (ipykernel)",
   "language": "python",
   "name": "python3"
  },
  "language_info": {
   "codemirror_mode": {
    "name": "ipython",
    "version": 3
   },
   "file_extension": ".py",
   "mimetype": "text/x-python",
   "name": "python",
   "nbconvert_exporter": "python",
   "pygments_lexer": "ipython3",
   "version": "3.11.7"
  }
 },
 "nbformat": 4,
 "nbformat_minor": 5
}
